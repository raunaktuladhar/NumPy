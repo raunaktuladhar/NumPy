{
 "cells": [
  {
   "cell_type": "markdown",
   "id": "2213678e-4517-4ba5-8a45-04e6828dd845",
   "metadata": {},
   "source": [
    "# NumPy\n",
    "NumPy (Numerical Python) is a powerful Python library used for mathematical and numerical operations. It provides a high-performance multidimensional array object and tools for working with these arrays.\n",
    "\n",
    "## To install numpy\n",
    "1. pip install numpy (in VS Code Terminal or cmd)\n",
    "      ##### OR\n",
    "2. !pip install numpy (in Jupyter Notebook)\n",
    "\n",
    "## Why use Numpy?\n",
    "1. Much faster than Python lists for numerical tasks\n",
    "2. Used as the foundation for libraries like Pandas, TensorFlow and Scikit-learn\n",
    "3. Makes matrix operations, statistics and data transformations easy and efficient"
   ]
  },
  {
   "cell_type": "markdown",
   "id": "f0b13dc6-f901-4c4b-b050-5266a80bee6d",
   "metadata": {},
   "source": [
    "# NumPy Array\n",
    "A NumPy array is a powerful data structure that stores elements of the same data type in a grid-like format. It is much faster and more efficient than Python lists for numerical operations."
   ]
  },
  {
   "cell_type": "markdown",
   "id": "69c122c5-9f22-4493-8814-f65b6f9e7427",
   "metadata": {},
   "source": [
    "### Creating Arrays:"
   ]
  },
  {
   "cell_type": "code",
   "execution_count": 228,
   "id": "e3247aa5-e5fb-4b5f-9f2b-2dc263a830b7",
   "metadata": {},
   "outputs": [
    {
     "name": "stdout",
     "output_type": "stream",
     "text": [
      "[1 2 3]\n",
      "\n",
      "\n",
      "[[0. 0. 0.]\n",
      " [0. 0. 0.]]\n",
      "\n",
      "\n",
      "[[1. 1. 1.]\n",
      " [1. 1. 1.]\n",
      " [1. 1. 1.]]\n",
      "\n",
      "\n",
      "[0 2 4 6 8]\n"
     ]
    }
   ],
   "source": [
    "import numpy as np\n",
    "\n",
    "a = np.array([1,2,3])  # Form a list\n",
    "b = np.zeros((2,3))    # Array of zeros\n",
    "c = np.ones((3,3))     # Array of ones\n",
    "d = np.arange(0,10,2)  # Range of numbers\n",
    "\n",
    "# b and c are in the format (rows, column)\n",
    "\n",
    "print(a)\n",
    "print('\\n')\n",
    "print(b)\n",
    "print('\\n')\n",
    "print(c)\n",
    "print('\\n')\n",
    "print(d)"
   ]
  },
  {
   "cell_type": "markdown",
   "id": "3778c3e6-be59-4b49-a88e-595a7de0eda0",
   "metadata": {},
   "source": [
    "### Basic Array Operations:"
   ]
  },
  {
   "cell_type": "markdown",
   "id": "eba736ec-ddcf-4701-9c1c-d1a40d664957",
   "metadata": {},
   "source": [
    "#### 1. Indexing and Slicing:"
   ]
  },
  {
   "cell_type": "code",
   "execution_count": 216,
   "id": "80409a39-33d7-42b8-ab9b-e517bc7924b6",
   "metadata": {},
   "outputs": [
    {
     "name": "stdout",
     "output_type": "stream",
     "text": [
      "20\n",
      "\n",
      "\n",
      "[20 30]\n",
      "\n",
      "\n",
      "[[1 3 5]\n",
      " [2 4 6]]\n"
     ]
    }
   ],
   "source": [
    "arr = np.array([10,20,30,40])   # 1-D array\n",
    "arr2 = np.array([[1,3,5],[2,4,6]])\n",
    "print(arr[1])                   # 20\n",
    "print('\\n')\n",
    "print(arr[1:3])                 # [20 30]\n",
    "print('\\n')\n",
    "print(arr2)                     # [[1 3 5] [2 4 6]]"
   ]
  },
  {
   "cell_type": "markdown",
   "id": "f026db39-ff48-470b-8330-8d134c83cebc",
   "metadata": {},
   "source": [
    "#### 2. Array Shape and Dimensions:"
   ]
  },
  {
   "cell_type": "code",
   "execution_count": 218,
   "id": "b79d2d90-980a-4106-80ae-3613edb90449",
   "metadata": {},
   "outputs": [
    {
     "name": "stdout",
     "output_type": "stream",
     "text": [
      "(4,)\n",
      "\n",
      "\n",
      "1\n",
      "\n",
      "\n",
      "4\n",
      "\n",
      "\n",
      "(2, 3)\n",
      "\n",
      "\n",
      "2\n"
     ]
    }
   ],
   "source": [
    "print(arr.shape)    # returns (row,column)\n",
    "print('\\n')\n",
    "print(arr.ndim)     # returns no. of dimensions\n",
    "print('\\n')\n",
    "print(arr.size)     # returns total no. of elements\n",
    "print('\\n')\n",
    "print(arr2.shape)\n",
    "print('\\n')\n",
    "print(arr2.ndim)"
   ]
  },
  {
   "cell_type": "markdown",
   "id": "1945fa96-0715-40f5-9615-8de427bcb316",
   "metadata": {},
   "source": [
    "#### 3. Reshaping Arrays"
   ]
  },
  {
   "cell_type": "code",
   "execution_count": 220,
   "id": "dd4edc01-af48-4e57-b06c-128bc069660e",
   "metadata": {},
   "outputs": [
    {
     "name": "stdout",
     "output_type": "stream",
     "text": [
      "[[1 2 3]\n",
      " [4 5 6]]\n",
      "\n",
      "\n",
      "2\n"
     ]
    }
   ],
   "source": [
    "arr = np.array([[1,2],[3,4],[5,6]])   # 2-D array\n",
    "print(arr.reshape(2,3))               # change the shape \n",
    "print('\\n')\n",
    "print(arr.ndim)"
   ]
  },
  {
   "cell_type": "markdown",
   "id": "3d8aa5af-45dc-4ee3-9a08-35129dba2f56",
   "metadata": {},
   "source": [
    "#### 4. Data Types:"
   ]
  },
  {
   "cell_type": "code",
   "execution_count": 165,
   "id": "affb0c3e-f57a-4fdd-92c2-20ab366b2a8c",
   "metadata": {},
   "outputs": [
    {
     "data": {
      "text/plain": [
       "dtype('int32')"
      ]
     },
     "execution_count": 165,
     "metadata": {},
     "output_type": "execute_result"
    }
   ],
   "source": [
    "arr.dtype # returns the data type of elements"
   ]
  },
  {
   "cell_type": "markdown",
   "id": "905cd7f8-e72e-4d9c-98b1-be4e8463e9fb",
   "metadata": {},
   "source": [
    "### Mathematical Operations:"
   ]
  },
  {
   "cell_type": "markdown",
   "id": "0428276a-4161-49b0-ba38-39e2fe534017",
   "metadata": {},
   "source": [
    "#### 1. Element-wise Operations:"
   ]
  },
  {
   "cell_type": "code",
   "execution_count": 222,
   "id": "5d4b53df-c1df-4507-bdba-2f37e9c9dbc9",
   "metadata": {},
   "outputs": [
    {
     "name": "stdout",
     "output_type": "stream",
     "text": [
      "[5 7 9]\n",
      "\n",
      "\n",
      "[ 4 10 18]\n",
      "\n",
      "\n",
      "[1 4 9]\n"
     ]
    }
   ],
   "source": [
    "a = np.array([1,2,3])\n",
    "b = np.array([4,5,6])\n",
    "\n",
    "print(a + b)    # [5,7,9]\n",
    "print('\\n')\n",
    "print(a * b)    # [4,10,18]\n",
    "print('\\n')\n",
    "print(a ** 2)   # [1,4,9]"
   ]
  },
  {
   "cell_type": "markdown",
   "id": "6a83fb86-e893-45b3-942f-5527defbce56",
   "metadata": {},
   "source": [
    "#### 2. Aggregate Functions:"
   ]
  },
  {
   "cell_type": "code",
   "execution_count": 224,
   "id": "338e067a-faad-4365-9920-c4116c2fc15a",
   "metadata": {},
   "outputs": [
    {
     "name": "stdout",
     "output_type": "stream",
     "text": [
      "30\n",
      "\n",
      "\n",
      "10.0\n",
      "\n",
      "\n",
      "5\n",
      "\n",
      "\n",
      "15\n",
      "\n",
      "\n",
      "4.08248290463863\n"
     ]
    }
   ],
   "source": [
    "arr = np.array([5,10,15])\n",
    "\n",
    "print(np.sum(arr))     # 30\n",
    "print('\\n')\n",
    "print(np.mean(arr))    # 10\n",
    "print('\\n')\n",
    "print(np.min(arr))     # 5\n",
    "print('\\n')\n",
    "print(np.max(arr))     # 15\n",
    "print('\\n')\n",
    "print(np.std(arr))     # Standard Deviation"
   ]
  },
  {
   "cell_type": "markdown",
   "id": "371ab22e-56c0-491e-89d1-9bfcaa9bb8b4",
   "metadata": {},
   "source": [
    "#### 3. Broadcasting (Simplified)"
   ]
  },
  {
   "cell_type": "code",
   "execution_count": 172,
   "id": "f5c40810-f840-4d69-b0c1-53e2b545d780",
   "metadata": {},
   "outputs": [
    {
     "data": {
      "text/plain": [
       "array([6, 7, 8])"
      ]
     },
     "execution_count": 172,
     "metadata": {},
     "output_type": "execute_result"
    }
   ],
   "source": [
    "a = np.array([1,2,3])\n",
    "a + 5                 # [6,7,8]"
   ]
  },
  {
   "cell_type": "markdown",
   "id": "ca352181-2005-4918-973d-213be0830e46",
   "metadata": {},
   "source": [
    "# NumPy in Action:\n",
    "Let's use NumPy in real-world scenario: analyzing temparature data"
   ]
  },
  {
   "cell_type": "markdown",
   "id": "63eaed54-9928-4df2-97e5-61d66c47cc3e",
   "metadata": {},
   "source": [
    "### Example: Calculate Average Weekly Temperature"
   ]
  },
  {
   "cell_type": "code",
   "execution_count": 182,
   "id": "3e845c74-3540-4c16-b954-8c4bba57944e",
   "metadata": {},
   "outputs": [
    {
     "name": "stdout",
     "output_type": "stream",
     "text": [
      "Average Temp: 30.6 °C\n"
     ]
    }
   ],
   "source": [
    "import numpy as np\n",
    "\n",
    "# Temparatures in °C for 7 days\n",
    "temps = np.array([30.5,32.0,31.2,29.8,28.9,30.0,31.5])\n",
    "\n",
    "# Average temperature\n",
    "avg_temp = np.mean(temps)\n",
    "print(f\"Average Temp: {avg_temp:.1f} °C\")"
   ]
  },
  {
   "cell_type": "markdown",
   "id": "f46d4db3-c2cf-446e-9980-7446dc1b06d8",
   "metadata": {},
   "source": [
    "### Note: For ° -> press and hold Alt + 0176"
   ]
  }
 ],
 "metadata": {
  "kernelspec": {
   "display_name": "Python 3 (ipykernel)",
   "language": "python",
   "name": "python3"
  },
  "language_info": {
   "codemirror_mode": {
    "name": "ipython",
    "version": 3
   },
   "file_extension": ".py",
   "mimetype": "text/x-python",
   "name": "python",
   "nbconvert_exporter": "python",
   "pygments_lexer": "ipython3",
   "version": "3.12.7"
  }
 },
 "nbformat": 4,
 "nbformat_minor": 5
}
